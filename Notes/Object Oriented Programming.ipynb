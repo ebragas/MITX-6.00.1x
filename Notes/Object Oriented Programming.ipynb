{
 "cells": [
  {
   "cell_type": "markdown",
   "metadata": {},
   "source": [
    "# Object Oriented Programming\n",
    "## Objects\n",
    "\n",
    "Every piece of data we've worked with so far has been an instance of an object\n",
    "\n",
    "Every object has a:\n",
    "- Type\n",
    "- Internal data representation (primitive or composite)\n",
    "- Set of procedures for interaction with the object"
   ]
  },
  {
   "cell_type": "markdown",
   "metadata": {},
   "source": [
    "## Object Oriented Programming (OOP)\n",
    "\n",
    "Everything in Python is an object and has a type\n",
    "\n",
    "Objects are a data abstraction that capture:\n",
    "\n",
    "- internal representation through data attributes\n",
    "- Interface for interacting with object through methods (procedures), defines behaviors but hides implementation \n",
    "\n",
    "Can create new instances of object\n",
    "\n",
    "Can destroy objects\n",
    "\n",
    "- Explicitly using del or just forget about them\n",
    "- Python system with \"garbage collect' destroyed or inaccessible objects"
   ]
  },
  {
   "cell_type": "markdown",
   "metadata": {},
   "source": [
    "## Advantages of OOP\n",
    "\n",
    "Bundle data into packages together with procedures that work on them through well defined interfaces\n",
    "\n",
    "Divide-and-conquer development\n",
    "\n",
    "- Implement and test behavior of each class separately\n",
    "- Increased modularity reduces complexity\n",
    "\n",
    "Classes make it easy to reuse code\n",
    "\n",
    "- Many modules define new classes\n",
    "- Each class has a separate environment (no collision on function names)\n",
    "- Inheritance allows a subclass to redefine or extend a selected subset of superclass' behavior"
   ]
  },
  {
   "cell_type": "markdown",
   "metadata": {},
   "source": [
    "## Define Your Own Types\n",
    "\n",
    "Use `class` keyword to define a new type"
   ]
  },
  {
   "cell_type": "code",
   "execution_count": 9,
   "metadata": {
    "collapsed": false
   },
   "outputs": [],
   "source": [
    "class Coordinate(object):\n",
    "    def __init__(self, x, y):\n",
    "        self.x = x\n",
    "        self.y = y"
   ]
  },
  {
   "cell_type": "markdown",
   "metadata": {},
   "source": [
    "- `class` keyword is similar to `def`\n",
    "- `self` parameter refers to the instance of the class\n",
    "- `self.x` binds value of input to the variable contained in the instance"
   ]
  },
  {
   "cell_type": "markdown",
   "metadata": {},
   "source": [
    "## Methods\n",
    "\n",
    "Methods are procedural attributes, like functions that work only with the class\n",
    "\n",
    "Python always passes the actual object as the first argument; convention is to use [self] as the name of the first argument of all methods\n",
    "\n",
    "The \".\" operator is use to access any attribute\n",
    "\n",
    "- A data attribute of an object\n",
    "- A method of an object\n",
    "\n",
    "Besides [self] argument and dot notation, methods behave the same way as function (take parameters, do operations, return value)"
   ]
  },
  {
   "cell_type": "markdown",
   "metadata": {},
   "source": [
    "## Define a Method for the `Coordinate` Class"
   ]
  },
  {
   "cell_type": "code",
   "execution_count": 10,
   "metadata": {
    "collapsed": true
   },
   "outputs": [],
   "source": [
    "class Coordinate(object):\n",
    "    def __init__(self, x, y):\n",
    "        self.x = x\n",
    "        self.y = y\n",
    "    def distance(self, other):\n",
    "        x_diff_sq = (self.x - other.x) ** 2\n",
    "        y_diff_sq = (self.y - other.y) ** 2\n",
    "        return (x_diff_sq + y_diff_sq) ** 0.5"
   ]
  },
  {
   "cell_type": "markdown",
   "metadata": {},
   "source": [
    "- Other than `self` and dot notation, methods behave just like functions (take params, do operations, return value)"
   ]
  },
  {
   "cell_type": "markdown",
   "metadata": {},
   "source": [
    "## How to use a Method from the `Coordinate` Class\n",
    "\n",
    "Conventional way:"
   ]
  },
  {
   "cell_type": "code",
   "execution_count": 11,
   "metadata": {
    "collapsed": false
   },
   "outputs": [
    {
     "data": {
      "text/plain": [
       "5.0"
      ]
     },
     "execution_count": 11,
     "metadata": {},
     "output_type": "execute_result"
    }
   ],
   "source": [
    "c = Coordinate(3, 4)\n",
    "origin = Coordinate(0, 0)\n",
    "\n",
    "c.distance(origin)"
   ]
  },
  {
   "cell_type": "markdown",
   "metadata": {},
   "source": [
    "Equivalent way:"
   ]
  },
  {
   "cell_type": "code",
   "execution_count": 12,
   "metadata": {
    "collapsed": false
   },
   "outputs": [
    {
     "data": {
      "text/plain": [
       "5.0"
      ]
     },
     "execution_count": 12,
     "metadata": {},
     "output_type": "execute_result"
    }
   ],
   "source": [
    "c = Coordinate(3, 4)\n",
    "origin = Coordinate(0, 0)\n",
    "\n",
    "Coordinate.distance(c, origin)"
   ]
  },
  {
   "cell_type": "markdown",
   "metadata": {},
   "source": [
    "Think of `Coordinate` as pointing to a frame\n",
    "- Within the scope of that frame, we created themods\n",
    "- `Coordinate.distance` gets the value of `Coordinate` (a frame), then looks up the value associated with `distance` (a procedure), then invokes it (which requires two arguments)\n",
    "-`c.distance` inherits the `distance` method, from the class definition and automatically uses `c` as the first arugments"
   ]
  },
  {
   "cell_type": "markdown",
   "metadata": {},
   "source": [
    "## Print Representation of an Object"
   ]
  },
  {
   "cell_type": "code",
   "execution_count": 13,
   "metadata": {
    "collapsed": false
   },
   "outputs": [
    {
     "name": "stdout",
     "output_type": "stream",
     "text": [
      "<__main__.Coordinate object at 0x000001E16CF91780>\n"
     ]
    }
   ],
   "source": [
    "c = Coordinate(3, 4)\n",
    "print(c)"
   ]
  },
  {
   "cell_type": "markdown",
   "metadata": {},
   "source": [
    "Uniformative print representation by default\n",
    "\n",
    "Define a `__str__` method to control print format; Python will call this method when `print()` is used\n",
    "- The same method is defined for many existing objects; ie. lists"
   ]
  },
  {
   "cell_type": "code",
   "execution_count": 14,
   "metadata": {
    "collapsed": false
   },
   "outputs": [],
   "source": [
    "class Coordinate(object):\n",
    "    def __init__(self, x, y):\n",
    "        self.x = x\n",
    "        self.y = y\n",
    "    def distance(self, other):\n",
    "        x_diff_sq = (self.x - other.x) ** 2\n",
    "        y_diff_sq = (self.y - other.y) ** 2\n",
    "        return (x_diff_sq + y_diff_sq) ** 0.5\n",
    "    def __str__(self):\n",
    "        return \"<\" + str(self.x) + \",\" + str(self.y) + \">\""
   ]
  },
  {
   "cell_type": "code",
   "execution_count": 15,
   "metadata": {
    "collapsed": false
   },
   "outputs": [
    {
     "name": "stdout",
     "output_type": "stream",
     "text": [
      "<3,4>\n"
     ]
    }
   ],
   "source": [
    "# Test __str__ method\n",
    "c = Coordinate(3, 4)\n",
    "print(c)"
   ]
  },
  {
   "cell_type": "markdown",
   "metadata": {},
   "source": [
    "## Types\n",
    "\n",
    "Use `isinstance()` to check if an object is an instance of a particular class"
   ]
  },
  {
   "cell_type": "code",
   "execution_count": 16,
   "metadata": {
    "collapsed": false
   },
   "outputs": [
    {
     "data": {
      "text/plain": [
       "True"
      ]
     },
     "execution_count": 16,
     "metadata": {},
     "output_type": "execute_result"
    }
   ],
   "source": [
    "isinstance(c, Coordinate)"
   ]
  },
  {
   "cell_type": "markdown",
   "metadata": {},
   "source": [
    "- Also works for builtin types"
   ]
  },
  {
   "cell_type": "markdown",
   "metadata": {},
   "source": [
    "## Getter and Setter Methods\n",
    "\n",
    "Preferred over interacting with attributes directly:"
   ]
  },
  {
   "cell_type": "code",
   "execution_count": 17,
   "metadata": {
    "collapsed": true
   },
   "outputs": [],
   "source": [
    "class Coordinate(object):\n",
    "    def __init__(self, x, y):\n",
    "        self.x = x\n",
    "        self.y = y\n",
    "    \n",
    "    def getX(self):\n",
    "        # Getter method for a Coordinate objects x coordinate\n",
    "        return self.x\n",
    "    \n",
    "    def getY(self):\n",
    "        # Getter method for a Coordinate objects y coordinate\n",
    "        return self.y\n",
    "    \n",
    "    def __str__(self):\n",
    "        return \"<\" + str(self.getX()) + \",\" + str(self.getY()) + \">\""
   ]
  },
  {
   "cell_type": "code",
   "execution_count": 18,
   "metadata": {
    "collapsed": false
   },
   "outputs": [
    {
     "name": "stdout",
     "output_type": "stream",
     "text": [
      "3\n",
      "4\n",
      "<3,4>\n"
     ]
    }
   ],
   "source": [
    "c = Coordinate(3, 4)\n",
    "\n",
    "print(c.getX())\n",
    "print(c.getY())\n",
    "print(c)"
   ]
  },
  {
   "cell_type": "markdown",
   "metadata": {},
   "source": [
    "## Special Operators\n",
    "\n",
    "+, -, ==, <, >, len, print, and many others can be defined for use with your class\n",
    "\n",
    "Like `print`, you can override these operators to work with your class\n",
    "\n",
    "Define them with double underscores before and after:\n",
    "\n",
    "|Method|Usage|\n",
    "| --- | --- |\n",
    "|`__add__(self, other)`|`self + other`\n",
    "|`__sub__(self, other)`|`self - other`\n",
    "|`__eq__(self, other)` |`self == other`\n",
    "|`__lt__(self, other)` |`self < other`\n",
    "|`__len__(self)`|`len(self)`\n",
    "|`__str__(self)`|`print(self)`"
   ]
  },
  {
   "cell_type": "markdown",
   "metadata": {},
   "source": [
    "### `__eq__`\n",
    "\n",
    "Defines behavior to use when two objects of the same type are compared or equality eg. `object1 == object2`"
   ]
  },
  {
   "cell_type": "code",
   "execution_count": 23,
   "metadata": {
    "collapsed": true
   },
   "outputs": [],
   "source": [
    "class Coordinate(object):\n",
    "    def __init__(self, x, y):\n",
    "        self.x = x\n",
    "        self.y = y\n",
    "    \n",
    "    def getX(self):\n",
    "        # Getter method for a Coordinate objects x coordinate\n",
    "        return self.x\n",
    "    \n",
    "    def getY(self):\n",
    "        # Getter method for a Coordinate objects y coordinate\n",
    "        return self.y\n",
    "    \n",
    "    # Only equal if both X and Y coordinates are equal\n",
    "    def __eq__(self, other):\n",
    "        if self.getX() == other.getX() and self.getY() == other.getY():\n",
    "            return True\n",
    "        else:\n",
    "            return False"
   ]
  },
  {
   "cell_type": "code",
   "execution_count": 24,
   "metadata": {
    "collapsed": false
   },
   "outputs": [
    {
     "name": "stdout",
     "output_type": "stream",
     "text": [
      "True\n",
      "False\n"
     ]
    }
   ],
   "source": [
    "c = Coordinate(3, 4)\n",
    "x = Coordinate(3, 4)\n",
    "y = Coordinate(4, 3)\n",
    "\n",
    "print(c == x)\n",
    "print(x == y)"
   ]
  },
  {
   "cell_type": "markdown",
   "metadata": {},
   "source": [
    "### `__repr__`\n",
    "\n",
    "Defines the formal representation of an object. Is a string representing the actual functional call required to recreate the same instance of the object.\n",
    "\n",
    "[See StackOverflow discussion](https://stackoverflow.com/questions/452300/python-object-repr-self-should-be-an-expression)\n",
    "\n",
    "Example:"
   ]
  },
  {
   "cell_type": "code",
   "execution_count": 29,
   "metadata": {
    "collapsed": false
   },
   "outputs": [
    {
     "data": {
      "text/plain": [
       "'datetime.date(2017, 8, 2)'"
      ]
     },
     "execution_count": 29,
     "metadata": {},
     "output_type": "execute_result"
    }
   ],
   "source": [
    "from datetime import date\n",
    "\n",
    "repr(date.today())\n"
   ]
  },
  {
   "cell_type": "markdown",
   "metadata": {},
   "source": [
    "In other words, the return value from `__eval__` should be a Python expression that, when eval'd, creates an object with the exact same properties as the first."
   ]
  },
  {
   "cell_type": "code",
   "execution_count": 51,
   "metadata": {
    "collapsed": false
   },
   "outputs": [],
   "source": [
    "class Coordinate(object):\n",
    "    def __init__(self, x, y):\n",
    "        self.x = x\n",
    "        self.y = y\n",
    "    \n",
    "    def getX(self):\n",
    "        # Getter method for a Coordinate objects x coordinate\n",
    "        return self.x\n",
    "    \n",
    "    def getY(self):\n",
    "        # Getter method for a Coordinate objects y coordinate\n",
    "        return self.y\n",
    "    \n",
    "    # Only equal if both X and Y coordinates are equal\n",
    "    def __eq__(self, other):\n",
    "        if self.getX() == other.getX() and self.getY() == other.getY():\n",
    "            return True\n",
    "        else:\n",
    "            return False\n",
    "        \n",
    "    def __repr__(self):\n",
    "        return \"Coordinate(%i,%i)\" % (self.getX(), self.getY())"
   ]
  },
  {
   "cell_type": "code",
   "execution_count": 55,
   "metadata": {
    "collapsed": false
   },
   "outputs": [
    {
     "data": {
      "text/plain": [
       "'Coordinate(5,6)'"
      ]
     },
     "execution_count": 55,
     "metadata": {},
     "output_type": "execute_result"
    }
   ],
   "source": [
    "c = Coordinate(5, 6)\n",
    "\n",
    "repr(c)"
   ]
  },
  {
   "cell_type": "code",
   "execution_count": 56,
   "metadata": {
    "collapsed": false
   },
   "outputs": [
    {
     "data": {
      "text/plain": [
       "Coordinate(5,6)"
      ]
     },
     "execution_count": 56,
     "metadata": {},
     "output_type": "execute_result"
    }
   ],
   "source": [
    "eval(_)"
   ]
  }
 ],
 "metadata": {
  "kernelspec": {
   "display_name": "Python 3",
   "language": "python",
   "name": "python3"
  },
  "language_info": {
   "codemirror_mode": {
    "name": "ipython",
    "version": 3
   },
   "file_extension": ".py",
   "mimetype": "text/x-python",
   "name": "python",
   "nbconvert_exporter": "python",
   "pygments_lexer": "ipython3",
   "version": "3.6.0"
  }
 },
 "nbformat": 4,
 "nbformat_minor": 2
}

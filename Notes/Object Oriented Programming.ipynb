{
 "cells": [
  {
   "cell_type": "markdown",
   "metadata": {},
   "source": [
    "# Object Oriented Programming\n",
    "### Objects\n",
    "\n",
    "Every piece of data we've worked with so far has been an instance of an object\n",
    "\n",
    "Every object has a:\n",
    "- Type\n",
    "- Internal data representation (primitive or composite)\n",
    "- Set of procedures for interaction with the object"
   ]
  },
  {
   "cell_type": "markdown",
   "metadata": {},
   "source": [
    "### Object Oriented Programming (OOP)\n",
    "\n",
    "Everything in Python is an object and has a type\n",
    "\n",
    "Objects are a data abstraction that capture:\n",
    "\n",
    "- internal representation through data attributes\n",
    "- Interface for interacting with object through methods (procedures), defines behaviors but hides implementation \n",
    "\n",
    "Can create new instances of object\n",
    "\n",
    "Can destroy objects\n",
    "\n",
    "- Explicitly using del or just forget about them\n",
    "- Python system with \"garbage collect' destroyed or inaccessible objects"
   ]
  },
  {
   "cell_type": "markdown",
   "metadata": {},
   "source": [
    "### Advantages of OOP\n",
    "\n",
    "Bundle data into packages together with procedures that work on them through well defined interfaces\n",
    "\n",
    "Divide-and-conquer development\n",
    "\n",
    "- Implement and test behavior of each class separately\n",
    "- Increased modularity reduces complexity\n",
    "\n",
    "Classes make it easy to reuse code\n",
    "\n",
    "- Many modules define new classes\n",
    "- Each class has a separate environment (no collision on function names)\n",
    "- Inheritance allows a subclass to redefine or extend a selected subset of superclass' behavior"
   ]
  },
  {
   "cell_type": "markdown",
   "metadata": {},
   "source": [
    "### Define Your Own Types\n",
    "\n",
    "Use `class` keyword to define a new type"
   ]
  },
  {
   "cell_type": "code",
   "execution_count": 3,
   "metadata": {
    "collapsed": false
   },
   "outputs": [],
   "source": [
    "class Coordinate(object):\n",
    "    def __init__(self, x, y):\n",
    "        self.x = x\n",
    "        self.y = y"
   ]
  },
  {
   "cell_type": "markdown",
   "metadata": {},
   "source": [
    "- `class` keyword is similar to `def`\n",
    "- `self` parameter refers to the instance of the class\n",
    "- `self.x` binds value of input to the variable contained in the instance"
   ]
  },
  {
   "cell_type": "markdown",
   "metadata": {},
   "source": [
    "### Methods\n",
    "\n",
    "Methods are procedural attributes, like functions that work only with the class\n",
    "\n",
    "Python always passes the actual object as the first argument; convention is to use [self] as the name of the first argument of all methods\n",
    "\n",
    "The \".\" operator is use to access any attribute\n",
    "\n",
    "- A data attribute of an object\n",
    "- A method of an object\n",
    "\n",
    "Besides [self] argument and dot notation, methods behave the same way as function (take parameters, do operations, return value)"
   ]
  },
  {
   "cell_type": "markdown",
   "metadata": {},
   "source": [
    "### Define a Method for the `Coordinate` Class"
   ]
  },
  {
   "cell_type": "code",
   "execution_count": 6,
   "metadata": {
    "collapsed": true
   },
   "outputs": [],
   "source": [
    "class Coordinate(object):\n",
    "    def __init__(self, x, y):\n",
    "        self.x = x\n",
    "        self.y = y\n",
    "    def distance(self, other):\n",
    "        x_diff_sq = (self.x - other.x) ** 2\n",
    "        y_diff_sq = (self.y - other.y) ** 2\n",
    "        return (x_diff_sq + y_diff_sq) ** 0.5"
   ]
  },
  {
   "cell_type": "markdown",
   "metadata": {},
   "source": [
    "- Other than `self` and dot notation, methods behave just like functions (take params, do operations, return value)"
   ]
  },
  {
   "cell_type": "markdown",
   "metadata": {},
   "source": [
    "### How to use a Method from the `Coordinate` Class\n",
    "\n",
    "Conventional way:"
   ]
  },
  {
   "cell_type": "code",
   "execution_count": 8,
   "metadata": {
    "collapsed": false
   },
   "outputs": [
    {
     "data": {
      "text/plain": [
       "5.0"
      ]
     },
     "execution_count": 8,
     "metadata": {},
     "output_type": "execute_result"
    }
   ],
   "source": [
    "c = Coordinate(3, 4)\n",
    "origin = Coordinate(0, 0)\n",
    "\n",
    "c.distance(origin)"
   ]
  },
  {
   "cell_type": "markdown",
   "metadata": {},
   "source": [
    "Equivalent way:"
   ]
  },
  {
   "cell_type": "code",
   "execution_count": 9,
   "metadata": {
    "collapsed": false
   },
   "outputs": [
    {
     "data": {
      "text/plain": [
       "5.0"
      ]
     },
     "execution_count": 9,
     "metadata": {},
     "output_type": "execute_result"
    }
   ],
   "source": [
    "c = Coordinate(3, 4)\n",
    "origin = Coordinate(0, 0)\n",
    "\n",
    "Coordinate.distance(c, origin)"
   ]
  },
  {
   "cell_type": "markdown",
   "metadata": {},
   "source": [
    "Think of `Coordinate` as pointing to a frame\n",
    "- Within the scope of that frame, we created themods\n",
    "- `Coordinate.distance` gets the value of `Coordinate` (a frame), then looks up the value associated with `distance` (a procedure), then invokes it (which requires two arguments)\n",
    "-`c.distance` inherits the `distance` method, from the class definition and automatically uses `c` as the first arugments"
   ]
  },
  {
   "cell_type": "markdown",
   "metadata": {},
   "source": [
    "### Print Representation of an Object"
   ]
  },
  {
   "cell_type": "code",
   "execution_count": 11,
   "metadata": {
    "collapsed": false
   },
   "outputs": [
    {
     "name": "stdout",
     "output_type": "stream",
     "text": [
      "<__main__.Coordinate object at 0x000001EDE898FC88>\n"
     ]
    }
   ],
   "source": [
    "c = Coordinate(3, 4)\n",
    "print(c)"
   ]
  },
  {
   "cell_type": "markdown",
   "metadata": {},
   "source": [
    "Uniformative print representation by default\n",
    "\n",
    "Define a `__str__` method to control print format; Python will call this method when `print()` is used\n",
    "- The same method is defined for many existing objects; ie. lists"
   ]
  },
  {
   "cell_type": "code",
   "execution_count": 14,
   "metadata": {
    "collapsed": false
   },
   "outputs": [],
   "source": [
    "class Coordinate(object):\n",
    "    def __init__(self, x, y):\n",
    "        self.x = x\n",
    "        self.y = y\n",
    "    def distance(self, other):\n",
    "        x_diff_sq = (self.x - other.x) ** 2\n",
    "        y_diff_sq = (self.y - other.y) ** 2\n",
    "        return (x_diff_sq + y_diff_sq) ** 0.5\n",
    "    def __str__(self):\n",
    "        return \"<\" + str(self.x) + \",\" + str(self.y) + \">\""
   ]
  },
  {
   "cell_type": "code",
   "execution_count": 16,
   "metadata": {
    "collapsed": false
   },
   "outputs": [
    {
     "name": "stdout",
     "output_type": "stream",
     "text": [
      "<3,4>\n"
     ]
    }
   ],
   "source": [
    "# Test __str__ method\n",
    "c = Coordinate(3, 4)\n",
    "print(c)"
   ]
  },
  {
   "cell_type": "markdown",
   "metadata": {},
   "source": [
    "### Types\n",
    "\n",
    "Use `isinstance()` to check if an object is an instance of a particular class"
   ]
  },
  {
   "cell_type": "code",
   "execution_count": 18,
   "metadata": {
    "collapsed": false
   },
   "outputs": [
    {
     "data": {
      "text/plain": [
       "True"
      ]
     },
     "execution_count": 18,
     "metadata": {},
     "output_type": "execute_result"
    }
   ],
   "source": [
    "isinstance(c, Coordinate)"
   ]
  },
  {
   "cell_type": "markdown",
   "metadata": {},
   "source": [
    "- Also works for builtin types"
   ]
  },
  {
   "cell_type": "markdown",
   "metadata": {},
   "source": [
    "### Special Operators\n",
    "\n",
    "+, -, ==, <, >, len, print, and many others can be defined for use with your class\n",
    "\n",
    "Like `print`, you can override these operators to work with your class\n",
    "\n",
    "Define them with double underscores before and after:\n",
    "\n",
    "|Method|Usage|\n",
    "| --- | --- |\n",
    "|`__add__(self, other)`|`self + other`\n",
    "|`__sub__(self, other)`|`self - other`\n",
    "|`__eq__(self, other)` |`self == other`\n",
    "|`__lt__(self, other)` |`self < other`\n",
    "|`__len__(self)`|`len(self)`\n",
    "|`__str__(self)`|`print(self)`"
   ]
  }
 ],
 "metadata": {
  "kernelspec": {
   "display_name": "Python 3",
   "language": "python",
   "name": "python3"
  },
  "language_info": {
   "codemirror_mode": {
    "name": "ipython",
    "version": 3
   },
   "file_extension": ".py",
   "mimetype": "text/x-python",
   "name": "python",
   "nbconvert_exporter": "python",
   "pygments_lexer": "ipython3",
   "version": "3.6.0"
  }
 },
 "nbformat": 4,
 "nbformat_minor": 2
}

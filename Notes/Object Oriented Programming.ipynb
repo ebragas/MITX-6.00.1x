{
 "cells": [
  {
   "cell_type": "markdown",
   "metadata": {},
   "source": [
    "# Object Oriented Programming\n",
    "**Objects**\n",
    "\n",
    "Every piece of data we've worked with so far has been an instance of an object\n",
    "\n",
    "Every object has a:\n",
    "- Type\n",
    "- Internal data representation (primitive or composite)\n",
    "- Set of procedures for interaction with the object"
   ]
  },
  {
   "cell_type": "markdown",
   "metadata": {},
   "source": [
    "**Object Oriented Programming (OOP)**\n",
    "\n",
    "Everything in Python is an object and has a type\n",
    "\n",
    "Objects are a data abstraction that capture:\n",
    "\n",
    "- internal representation through data attributes\n",
    "- Interface for interacting with object through methods (procedures), defines behaviors but hides implementation \n",
    "\n",
    "Can create new instances of object\n",
    "\n",
    "Can destroy objects\n",
    "\n",
    "- Explicitly using del or just forget about them\n",
    "- Python system with \"garbage collect' destroyed or inaccessible objects"
   ]
  },
  {
   "cell_type": "markdown",
   "metadata": {},
   "source": [
    "**Advantages of OOP**\n",
    "\n",
    "Bundle data into packages together with procedures that work on them through well defined interfaces\n",
    "\n",
    "Divide-and-conquer development\n",
    "\n",
    "- Implement and test behavior of each class separately\n",
    "- Increased modularity reduces complexity\n",
    "\n",
    "Classes make it easy to reuse code\n",
    "\n",
    "- Many modules define new classes\n",
    "- Each class has a separate environment (no collision on function names)\n",
    "- Inheritance allows a subclass to redefine or extend a selected subset of superclass' behavior"
   ]
  },
  {
   "cell_type": "markdown",
   "metadata": {},
   "source": [
    "**Define Your Own Types**\n",
    "\n",
    "Use `class` keyword to define a new type"
   ]
  },
  {
   "cell_type": "code",
   "execution_count": 3,
   "metadata": {
    "collapsed": false
   },
   "outputs": [],
   "source": [
    "class Coordinate(object):\n",
    "    def __init__(self, x, y):\n",
    "        self.x = x\n",
    "        self.y = y"
   ]
  },
  {
   "cell_type": "markdown",
   "metadata": {},
   "source": [
    "- `class` keyword is similar to `def`\n",
    "- `self` parameter refers to the instance of the class\n",
    "- `self.x` binds value of input to the variable contained in the instance"
   ]
  },
  {
   "cell_type": "markdown",
   "metadata": {},
   "source": [
    "**Methods**\n",
    "\n",
    "Methods are procedural attributes, like functions that work only with the class\n",
    "\n",
    "Python always passes the actual object as the first argument; convention is to use [self] as the name of the first argument of all methods\n",
    "\n",
    "The \".\" operator is use to access any attribute\n",
    "\n",
    "- A data attribute of an object\n",
    "- A method of an object\n",
    "\n",
    "Besides [self] argument and dot notation, methods behave the same way as function (take parameters, do operations, return value)"
   ]
  }
 ],
 "metadata": {
  "kernelspec": {
   "display_name": "Python 3",
   "language": "python",
   "name": "python3"
  },
  "language_info": {
   "codemirror_mode": {
    "name": "ipython",
    "version": 3
   },
   "file_extension": ".py",
   "mimetype": "text/x-python",
   "name": "python",
   "nbconvert_exporter": "python",
   "pygments_lexer": "ipython3",
   "version": "3.6.0"
  }
 },
 "nbformat": 4,
 "nbformat_minor": 2
}
